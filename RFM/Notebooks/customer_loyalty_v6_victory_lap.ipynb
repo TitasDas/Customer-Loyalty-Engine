{
 "cells": [
  {
   "cell_type": "markdown",
   "metadata": {},
   "source": [
    "# Identify positive and negative triggers and plot victory laps\n",
    "\n",
    "We were initially plotting the customers for each product with loyalty score on the y-axis and a timeline on the x-axis and gauging from the trendline whether the products were positive or negative triggers. In this notebook we try to take the input as the customer_loyalty_df and try to calculate our way into top three positive/negative triggers using the following steps :-\n",
    "\n",
    "1. Calculate the difference in min/max loyalty score for each product to measure the variants with maximum impact (typically the ones in the bottom of the list)\n",
    "\n",
    "2. Take the bottom ten, and plot trendlines (using ols) and calculate the slope for each trendline\n",
    "\n",
    "3. Top three max slope values = top three positive triggers & \n",
    "    Bottom three negative slope values = top three negative triggers\n",
    "    \n",
    "##### small note at the bottom related to overall inference regarding loyalty metric\n",
    "\n",
    "\n",
    "## TODO in step 1 - refer that section"
   ]
  },
  {
   "cell_type": "code",
   "execution_count": 21,
   "metadata": {},
   "outputs": [],
   "source": [
    "import pandas as pd\n",
    "from datetime import datetime\n",
    "\n",
    "#alternatives for calculating the differential/derivative\n",
    "from numpy import diff\n",
    "from scipy.misc import derivative\n",
    "\n",
    "import plotly.express as px\n",
    "\n",
    "#pandas setting to see all columns and rows\n",
    "pd.set_option(\"display.max_columns\", 50)\n",
    "pd.set_option(\"display.max_rows\", 500)"
   ]
  },
  {
   "cell_type": "markdown",
   "metadata": {},
   "source": [
    "# Data Input\n",
    "\n",
    "The expected data input is the output of the customer loyalty metric. For this iteration the result for uniqlo was used which can be found [here](https://console.cloud.google.com/storage/browser/cerebra_sales_data/uniqlo/metrics/customers_loyalty?pageState=(%22StorageObjectListTable%22:(%22f%22:%22%255B%255D%22))&project=earnest-command-199219&prefix=&forceOnObjectsSortingFiltering=false)"
   ]
  },
  {
   "cell_type": "code",
   "execution_count": 38,
   "metadata": {},
   "outputs": [],
   "source": [
    "# please update as per usage\n",
    "path = '/home/td/cerebra_work/loyalty-engine/RFM/Notebooks/Data/'\n",
    "customer_loyalty_df = pd.read_parquet(path+'uniqlo_metrics_customers_loyalty_customer_2021-10-13.parquet')"
   ]
  },
  {
   "cell_type": "markdown",
   "metadata": {},
   "source": [
    "### Calculating the difference of loyalty scores using lambda"
   ]
  },
  {
   "cell_type": "code",
   "execution_count": 23,
   "metadata": {},
   "outputs": [],
   "source": [
    "#%%time\n",
    "#triggers_df['new_col'] = customer_loyalty_df.groupby(\"variant_id\")[\"loyalty_score\"].transform(lambda x: x.max()-x.min())\n",
    "#triggers_df.drop_duplicates(subset=['variant_id'])"
   ]
  },
  {
   "cell_type": "markdown",
   "metadata": {},
   "source": [
    "# Step 1: Calculating the difference in an optimized manner\n",
    "\n",
    "A filtered_df is generated here which consists of what we assume as the products with the highest impact on loyalty as the difference between the min and max loyalty they have generated in customers is maximum. For starters we have considered top ten such products.\n",
    "\n",
    "### TODO - check why difference is NaN"
   ]
  },
  {
   "cell_type": "code",
   "execution_count": 43,
   "metadata": {},
   "outputs": [
    {
     "name": "stdout",
     "output_type": "stream",
     "text": [
      "           order_id variant_id           customer_id            source_id  \\\n",
      "0       UNU17571101     418225     US621111115646588     Newsletter Email   \n",
      "1       UNU17569173     432855     US621111115115761               Direct   \n",
      "2       UNU17569319     432855     US621111115897354        Trigger Email   \n",
      "3       UNU17569410     432855     US621111111298782       Organic Search   \n",
      "4       UNU17569605     432855  US051210301953513184  Product Listing Ads   \n",
      "...             ...        ...                   ...                  ...   \n",
      "879383  UNU25221541     437276     US621111112027804            Affiliate   \n",
      "879384  UNU25276981     437276     US621111113261366       Organic Search   \n",
      "879385  UNU25285459     437276     US621111114984382              (Other)   \n",
      "879386  UNU25298568     437276     US621111115673397              (Other)   \n",
      "879387  UNU25299622     441799     US621111115162342               Direct   \n",
      "\n",
      "       store_id order_date  selling_price  quantity currency  client_id  \\\n",
      "0             1 2021-04-16            9.9         1      N/A         51   \n",
      "1             1 2021-04-16            7.9         1      USD         51   \n",
      "2             1 2021-04-16            7.9        10      USD         51   \n",
      "3             1 2021-04-16            7.9         2      USD         51   \n",
      "4             1 2021-04-16            7.9         1      N/A         51   \n",
      "...         ...        ...            ...       ...      ...        ...   \n",
      "879383        1 2021-10-11           14.9         3      USD         51   \n",
      "879384        1 2021-10-11           14.9         2      USD         51   \n",
      "879385        1 2021-10-11           14.9         1      USD         51   \n",
      "879386        1 2021-10-11           14.9         4      USD         51   \n",
      "879387        1 2021-10-11           39.9         1      USD         51   \n",
      "\n",
      "        revenue shipping_zip product_id_x  recency  monetary_value  frequency  \\\n",
      "0           9.9        11228       12440Z      180             9.9          1   \n",
      "1           7.9        49009       11064Z      180             7.9          1   \n",
      "2          79.0        87501       11064Z      180            79.0          2   \n",
      "3          15.8   98052-4093       11064Z      180            15.8          1   \n",
      "4           7.9        92131       11064Z      180             7.9          3   \n",
      "...         ...          ...          ...      ...             ...        ...   \n",
      "879383     44.7        94306       437276        2            44.7          1   \n",
      "879384     29.8   91801-7131       437276        2            29.8          3   \n",
      "879385     14.9        90250       437276        2            14.9          1   \n",
      "879386     59.6        10462       437276        2            59.6          1   \n",
      "879387     39.9        11790       15922Z        2            39.9          2   \n",
      "\n",
      "        M  R  loyalty_score  LS loyalty_labels  \\\n",
      "0       1  2              4   1            Low   \n",
      "1       1  2              4   1            Low   \n",
      "2       3  2              7   2         Medium   \n",
      "3       2  2              5   1            Low   \n",
      "4       1  2              6   1            Low   \n",
      "...    .. ..            ...  ..            ...   \n",
      "879383  3  5              9   4        Supreme   \n",
      "879384  2  5             10   4        Supreme   \n",
      "879385  1  5              7   2         Medium   \n",
      "879386  3  5              9   4        Supreme   \n",
      "879387  3  5             10   4        Supreme   \n",
      "\n",
      "                                       variant_name  original_price  \\\n",
      "0       W's 1*1 ribbed cotton crew neck L/S T-shirt            14.9   \n",
      "1             W's AIRism ultra seamless shorts (JW)             7.9   \n",
      "2             W's AIRism ultra seamless shorts (JW)             7.9   \n",
      "3             W's AIRism ultra seamless shorts (JW)             7.9   \n",
      "4             W's AIRism ultra seamless shorts (JW)             7.9   \n",
      "...                                             ...             ...   \n",
      "879383    W's mercerized cotton S/S T dress (short)            19.9   \n",
      "879384    W's mercerized cotton S/S T dress (short)            19.9   \n",
      "879385    W's mercerized cotton S/S T dress (short)            19.9   \n",
      "879386    W's mercerized cotton S/S T dress (short)            19.9   \n",
      "879387                    W's jersey relaxed jacket            39.9   \n",
      "\n",
      "               category_name  \\\n",
      "0         Core T L/S (Women)   \n",
      "1       AIRism Inner (Women)   \n",
      "2       AIRism Inner (Women)   \n",
      "3       AIRism Inner (Women)   \n",
      "4       AIRism Inner (Women)   \n",
      "...                      ...   \n",
      "879383         Dress (Women)   \n",
      "879384         Dress (Women)   \n",
      "879385         Dress (Women)   \n",
      "879386         Dress (Women)   \n",
      "879387     No lining (Women)   \n",
      "\n",
      "                                               image_link  \\\n",
      "0       https://image.uniqlo.com/UQ/ST3/WesternCommon/...   \n",
      "1       https://image.uniqlo.com/UQ/ST3/WesternCommon/...   \n",
      "2       https://image.uniqlo.com/UQ/ST3/WesternCommon/...   \n",
      "3       https://image.uniqlo.com/UQ/ST3/WesternCommon/...   \n",
      "4       https://image.uniqlo.com/UQ/ST3/WesternCommon/...   \n",
      "...                                                   ...   \n",
      "879383  https://image.uniqlo.com/UQ/ST3/WesternCommon/...   \n",
      "879384  https://image.uniqlo.com/UQ/ST3/WesternCommon/...   \n",
      "879385  https://image.uniqlo.com/UQ/ST3/WesternCommon/...   \n",
      "879386  https://image.uniqlo.com/UQ/ST3/WesternCommon/...   \n",
      "879387  https://image.uniqlo.com/UQ/ST3/WesternCommon/...   \n",
      "\n",
      "                                                     link  \\\n",
      "0       https://www.uniqlo.com/us/en/women-1*1-ribbed-...   \n",
      "1       https://www.uniqlo.com/us/en/women-airism-ultr...   \n",
      "2       https://www.uniqlo.com/us/en/women-airism-ultr...   \n",
      "3       https://www.uniqlo.com/us/en/women-airism-ultr...   \n",
      "4       https://www.uniqlo.com/us/en/women-airism-ultr...   \n",
      "...                                                   ...   \n",
      "879383  https://www.uniqlo.com/us/en/women-mercerized-...   \n",
      "879384  https://www.uniqlo.com/us/en/women-mercerized-...   \n",
      "879385  https://www.uniqlo.com/us/en/women-mercerized-...   \n",
      "879386  https://www.uniqlo.com/us/en/women-mercerized-...   \n",
      "879387  https://www.uniqlo.com/us/en/women-jersey-rela...   \n",
      "\n",
      "                                             product_name product_id_y  \\\n",
      "0       WOMEN STRETCH COTTON CREW NECK LONG-SLEEVE T-S...       12440Z   \n",
      "1             WOMEN AIRism ULTRA SEAMLESS HIGH-RISE BRIEF       11064Z   \n",
      "2             WOMEN AIRism ULTRA SEAMLESS HIGH-RISE BRIEF       11064Z   \n",
      "3             WOMEN AIRism ULTRA SEAMLESS HIGH-RISE BRIEF       11064Z   \n",
      "4             WOMEN AIRism ULTRA SEAMLESS HIGH-RISE BRIEF       11064Z   \n",
      "...                                                   ...          ...   \n",
      "879383  WOMEN MERCERIZED COTTON SHORT-SLEEVE T-SHIRT D...       437276   \n",
      "879384  WOMEN MERCERIZED COTTON SHORT-SLEEVE T-SHIRT D...       437276   \n",
      "879385  WOMEN MERCERIZED COTTON SHORT-SLEEVE T-SHIRT D...       437276   \n",
      "879386  WOMEN MERCERIZED COTTON SHORT-SLEEVE T-SHIRT D...       437276   \n",
      "879387                        WOMEN JERSEY RELAXED JACKET       15922Z   \n",
      "\n",
      "                 category_id  difference  \n",
      "0         Core T L/S (Women)         NaN  \n",
      "1       AIRism Inner (Women)         NaN  \n",
      "2       AIRism Inner (Women)         NaN  \n",
      "3       AIRism Inner (Women)         NaN  \n",
      "4       AIRism Inner (Women)         NaN  \n",
      "...                      ...         ...  \n",
      "879383         Dress (Women)         NaN  \n",
      "879384         Dress (Women)         NaN  \n",
      "879385         Dress (Women)         NaN  \n",
      "879386         Dress (Women)         NaN  \n",
      "879387     No lining (Women)         NaN  \n",
      "\n",
      "[879388 rows x 30 columns]\n",
      "CPU times: user 546 ms, sys: 194 ms, total: 740 ms\n",
      "Wall time: 742 ms\n"
     ]
    }
   ],
   "source": [
    "%%time\n",
    "\n",
    "triggers_df = customer_loyalty_df.copy()\n",
    "triggers_df['difference'] = customer_loyalty_df.groupby(\"variant_id\").agg({'loyalty_score': 'max'}) -customer_loyalty_df.groupby(\"variant_id\").agg({'loyalty_score': 'min'})\n",
    "\n",
    "print(triggers_df)\n",
    "\n",
    "triggers_df = triggers_df.sort_values(by='difference', ascending= False)\n",
    "triggers_df = triggers_df[triggers_df['difference']>1]"
   ]
  },
  {
   "cell_type": "markdown",
   "metadata": {},
   "source": [
    "# Step 2 : Choose products with the highest impact"
   ]
  },
  {
   "cell_type": "code",
   "execution_count": null,
   "metadata": {},
   "outputs": [],
   "source": [
    "#getting top ten variants from the df\n",
    "triggers_df = triggers_df.iloc[0:10,:]\n",
    "\n",
    "#print(triggers_df)\n",
    "\n",
    "triggers_list = triggers_df.index.tolist()\n",
    "#print(triggers_list)\n",
    "\n",
    "boolean_series = customer_loyalty_df.variant_id.isin(triggers_list)\n",
    "filtered_df = customer_loyalty_df[boolean_series]\n",
    "\n",
    "#print(filtered_df)"
   ]
  },
  {
   "cell_type": "code",
   "execution_count": 29,
   "metadata": {},
   "outputs": [
    {
     "data": {
      "text/html": [
       "<div>\n",
       "<style scoped>\n",
       "    .dataframe tbody tr th:only-of-type {\n",
       "        vertical-align: middle;\n",
       "    }\n",
       "\n",
       "    .dataframe tbody tr th {\n",
       "        vertical-align: top;\n",
       "    }\n",
       "\n",
       "    .dataframe thead th {\n",
       "        text-align: right;\n",
       "    }\n",
       "</style>\n",
       "<table border=\"1\" class=\"dataframe\">\n",
       "  <thead>\n",
       "    <tr style=\"text-align: right;\">\n",
       "      <th></th>\n",
       "      <th>order_id</th>\n",
       "      <th>variant_id</th>\n",
       "      <th>customer_id</th>\n",
       "      <th>source_id</th>\n",
       "      <th>store_id</th>\n",
       "      <th>order_date</th>\n",
       "      <th>selling_price</th>\n",
       "      <th>quantity</th>\n",
       "      <th>currency</th>\n",
       "      <th>client_id</th>\n",
       "      <th>revenue</th>\n",
       "      <th>shipping_zip</th>\n",
       "      <th>product_id_x</th>\n",
       "      <th>recency</th>\n",
       "      <th>monetary_value</th>\n",
       "      <th>frequency</th>\n",
       "      <th>M</th>\n",
       "      <th>R</th>\n",
       "      <th>loyalty_score</th>\n",
       "      <th>LS</th>\n",
       "      <th>loyalty_labels</th>\n",
       "      <th>variant_name</th>\n",
       "      <th>original_price</th>\n",
       "      <th>category_name</th>\n",
       "      <th>image_link</th>\n",
       "      <th>link</th>\n",
       "      <th>product_name</th>\n",
       "      <th>product_id_y</th>\n",
       "      <th>category_id</th>\n",
       "      <th>difference</th>\n",
       "    </tr>\n",
       "  </thead>\n",
       "  <tbody>\n",
       "  </tbody>\n",
       "</table>\n",
       "</div>"
      ],
      "text/plain": [
       "Empty DataFrame\n",
       "Columns: [order_id, variant_id, customer_id, source_id, store_id, order_date, selling_price, quantity, currency, client_id, revenue, shipping_zip, product_id_x, recency, monetary_value, frequency, M, R, loyalty_score, LS, loyalty_labels, variant_name, original_price, category_name, image_link, link, product_name, product_id_y, category_id, difference]\n",
       "Index: []"
      ]
     },
     "execution_count": 29,
     "metadata": {},
     "output_type": "execute_result"
    }
   ],
   "source": [
    "triggers_df"
   ]
  },
  {
   "cell_type": "markdown",
   "metadata": {},
   "source": [
    "# Step 3: Getting the list of positive and negative triggers\n",
    "\n",
    "We plot a straight line using linear regression based on ordinary least squares and then calculate the slopes of these lines. Here we assume that high magnitude of the slope would correlate to the product being a more positive trigger and vice versa. At the end we narrow down on top three negative and positive triggers."
   ]
  },
  {
   "cell_type": "code",
   "execution_count": 25,
   "metadata": {},
   "outputs": [
    {
     "name": "stdout",
     "output_type": "stream",
     "text": [
      "{}\n",
      "{}\n",
      "CPU times: user 120 µs, sys: 37 µs, total: 157 µs\n",
      "Wall time: 119 µs\n"
     ]
    }
   ],
   "source": [
    "%%time\n",
    "\n",
    "#find positive and negative triggers\n",
    "res = {}\n",
    "for i in triggers_list:\n",
    "    #print(i)\n",
    "    fig = px.scatter(filtered_df.loc[filtered_df['variant_id']==i], x = \"order_date\", y=\"loyalty_score\", color=\"variant_name\", trendline=\"ols\", title = \"Which variant is the best loyalty trigger within a category?\"\n",
    "                ,labels=dict(order_date=\"Purchase Date\", loyalty_score=\"Loyalty Score \"))\n",
    "    #fig.data = [t for t in fig.data if t.mode == \"lines\"]\n",
    "    #fig.update_traces(showlegend = True)\n",
    "    #fig.show()\n",
    "    results = px.get_trendline_results(fig)\n",
    "    #results = results.iloc[0][\"px_fit_results\"].summary()\n",
    "    coeff = results.iloc[0][\"px_fit_results\"].params\n",
    "    res[i] = coeff[1]\n",
    "# the second value printed here is the slope\n",
    "#print(coeff)\n",
    "#print(coeff[1])\n",
    "print(res)\n",
    "positive_negative_triggers_dict = {}\n",
    "positive_negative_triggers_keys = sorted(res, key=res.get)  # [1, 3, 2]\n",
    "\n",
    "for w in positive_negative_triggers_keys:\n",
    "    positive_negative_triggers_dict[w] = res[w]\n",
    "\n",
    "print(positive_negative_triggers_dict) # {1: 1, 3: 4, 2: 9}\n",
    "negative_triggers = list(positive_negative_triggers_dict.items())[:3]\n",
    "positive_triggers = list(positive_negative_triggers_dict.items())[-3:]"
   ]
  },
  {
   "cell_type": "code",
   "execution_count": 26,
   "metadata": {},
   "outputs": [
    {
     "data": {
      "text/plain": [
       "[]"
      ]
     },
     "execution_count": 26,
     "metadata": {},
     "output_type": "execute_result"
    }
   ],
   "source": [
    "positive_triggers"
   ]
  },
  {
   "cell_type": "code",
   "execution_count": 27,
   "metadata": {},
   "outputs": [
    {
     "data": {
      "text/plain": [
       "[]"
      ]
     },
     "execution_count": 27,
     "metadata": {},
     "output_type": "execute_result"
    }
   ],
   "source": [
    "negative_triggers"
   ]
  },
  {
   "cell_type": "markdown",
   "metadata": {},
   "source": [
    "# Backtesting\n",
    "\n",
    "## Observations \n",
    "\n",
    "- The time window from when the metric starts affects the loyalty score. For example, if the loyalty score is starting to be calculated from january than at that instant we assume that all customers start from the loyalty score of zero."
   ]
  },
  {
   "cell_type": "code",
   "execution_count": 28,
   "metadata": {},
   "outputs": [
    {
     "ename": "IndexError",
     "evalue": "single positional indexer is out-of-bounds",
     "output_type": "error",
     "traceback": [
      "\u001b[0;31m---------------------------------------------------------------------------\u001b[0m",
      "\u001b[0;31mIndexError\u001b[0m                                Traceback (most recent call last)",
      "\u001b[0;32m<ipython-input-28-3bdf4cbb1ac1>\u001b[0m in \u001b[0;36m<module>\u001b[0;34m\u001b[0m\n\u001b[1;32m      6\u001b[0m \u001b[0mresults\u001b[0m \u001b[0;34m=\u001b[0m \u001b[0mpx\u001b[0m\u001b[0;34m.\u001b[0m\u001b[0mget_trendline_results\u001b[0m\u001b[0;34m(\u001b[0m\u001b[0mfig\u001b[0m\u001b[0;34m)\u001b[0m\u001b[0;34m\u001b[0m\u001b[0;34m\u001b[0m\u001b[0m\n\u001b[1;32m      7\u001b[0m \u001b[0;31m#results = results.iloc[0][\"px_fit_results\"].summary()\u001b[0m\u001b[0;34m\u001b[0m\u001b[0;34m\u001b[0m\u001b[0;34m\u001b[0m\u001b[0m\n\u001b[0;32m----> 8\u001b[0;31m \u001b[0mcoeff\u001b[0m \u001b[0;34m=\u001b[0m \u001b[0mresults\u001b[0m\u001b[0;34m.\u001b[0m\u001b[0miloc\u001b[0m\u001b[0;34m[\u001b[0m\u001b[0;36m0\u001b[0m\u001b[0;34m]\u001b[0m\u001b[0;34m[\u001b[0m\u001b[0;34m\"px_fit_results\"\u001b[0m\u001b[0;34m]\u001b[0m\u001b[0;34m.\u001b[0m\u001b[0mparams\u001b[0m\u001b[0;34m\u001b[0m\u001b[0;34m\u001b[0m\u001b[0m\n\u001b[0m\u001b[1;32m      9\u001b[0m \u001b[0;31m#    res.append(coeff[1])\u001b[0m\u001b[0;34m\u001b[0m\u001b[0;34m\u001b[0m\u001b[0;34m\u001b[0m\u001b[0m\n",
      "\u001b[0;32m~/.local/lib/python3.8/site-packages/pandas/core/indexing.py\u001b[0m in \u001b[0;36m__getitem__\u001b[0;34m(self, key)\u001b[0m\n\u001b[1;32m    892\u001b[0m \u001b[0;34m\u001b[0m\u001b[0m\n\u001b[1;32m    893\u001b[0m             \u001b[0mmaybe_callable\u001b[0m \u001b[0;34m=\u001b[0m \u001b[0mcom\u001b[0m\u001b[0;34m.\u001b[0m\u001b[0mapply_if_callable\u001b[0m\u001b[0;34m(\u001b[0m\u001b[0mkey\u001b[0m\u001b[0;34m,\u001b[0m \u001b[0mself\u001b[0m\u001b[0;34m.\u001b[0m\u001b[0mobj\u001b[0m\u001b[0;34m)\u001b[0m\u001b[0;34m\u001b[0m\u001b[0;34m\u001b[0m\u001b[0m\n\u001b[0;32m--> 894\u001b[0;31m             \u001b[0;32mreturn\u001b[0m \u001b[0mself\u001b[0m\u001b[0;34m.\u001b[0m\u001b[0m_getitem_axis\u001b[0m\u001b[0;34m(\u001b[0m\u001b[0mmaybe_callable\u001b[0m\u001b[0;34m,\u001b[0m \u001b[0maxis\u001b[0m\u001b[0;34m=\u001b[0m\u001b[0maxis\u001b[0m\u001b[0;34m)\u001b[0m\u001b[0;34m\u001b[0m\u001b[0;34m\u001b[0m\u001b[0m\n\u001b[0m\u001b[1;32m    895\u001b[0m \u001b[0;34m\u001b[0m\u001b[0m\n\u001b[1;32m    896\u001b[0m     \u001b[0;32mdef\u001b[0m \u001b[0m_is_scalar_access\u001b[0m\u001b[0;34m(\u001b[0m\u001b[0mself\u001b[0m\u001b[0;34m,\u001b[0m \u001b[0mkey\u001b[0m\u001b[0;34m:\u001b[0m \u001b[0mTuple\u001b[0m\u001b[0;34m)\u001b[0m\u001b[0;34m:\u001b[0m\u001b[0;34m\u001b[0m\u001b[0;34m\u001b[0m\u001b[0m\n",
      "\u001b[0;32m~/.local/lib/python3.8/site-packages/pandas/core/indexing.py\u001b[0m in \u001b[0;36m_getitem_axis\u001b[0;34m(self, key, axis)\u001b[0m\n\u001b[1;32m   1498\u001b[0m \u001b[0;34m\u001b[0m\u001b[0m\n\u001b[1;32m   1499\u001b[0m             \u001b[0;31m# validate the location\u001b[0m\u001b[0;34m\u001b[0m\u001b[0;34m\u001b[0m\u001b[0;34m\u001b[0m\u001b[0m\n\u001b[0;32m-> 1500\u001b[0;31m             \u001b[0mself\u001b[0m\u001b[0;34m.\u001b[0m\u001b[0m_validate_integer\u001b[0m\u001b[0;34m(\u001b[0m\u001b[0mkey\u001b[0m\u001b[0;34m,\u001b[0m \u001b[0maxis\u001b[0m\u001b[0;34m)\u001b[0m\u001b[0;34m\u001b[0m\u001b[0;34m\u001b[0m\u001b[0m\n\u001b[0m\u001b[1;32m   1501\u001b[0m \u001b[0;34m\u001b[0m\u001b[0m\n\u001b[1;32m   1502\u001b[0m             \u001b[0;32mreturn\u001b[0m \u001b[0mself\u001b[0m\u001b[0;34m.\u001b[0m\u001b[0mobj\u001b[0m\u001b[0;34m.\u001b[0m\u001b[0m_ixs\u001b[0m\u001b[0;34m(\u001b[0m\u001b[0mkey\u001b[0m\u001b[0;34m,\u001b[0m \u001b[0maxis\u001b[0m\u001b[0;34m=\u001b[0m\u001b[0maxis\u001b[0m\u001b[0;34m)\u001b[0m\u001b[0;34m\u001b[0m\u001b[0;34m\u001b[0m\u001b[0m\n",
      "\u001b[0;32m~/.local/lib/python3.8/site-packages/pandas/core/indexing.py\u001b[0m in \u001b[0;36m_validate_integer\u001b[0;34m(self, key, axis)\u001b[0m\n\u001b[1;32m   1441\u001b[0m         \u001b[0mlen_axis\u001b[0m \u001b[0;34m=\u001b[0m \u001b[0mlen\u001b[0m\u001b[0;34m(\u001b[0m\u001b[0mself\u001b[0m\u001b[0;34m.\u001b[0m\u001b[0mobj\u001b[0m\u001b[0;34m.\u001b[0m\u001b[0m_get_axis\u001b[0m\u001b[0;34m(\u001b[0m\u001b[0maxis\u001b[0m\u001b[0;34m)\u001b[0m\u001b[0;34m)\u001b[0m\u001b[0;34m\u001b[0m\u001b[0;34m\u001b[0m\u001b[0m\n\u001b[1;32m   1442\u001b[0m         \u001b[0;32mif\u001b[0m \u001b[0mkey\u001b[0m \u001b[0;34m>=\u001b[0m \u001b[0mlen_axis\u001b[0m \u001b[0;32mor\u001b[0m \u001b[0mkey\u001b[0m \u001b[0;34m<\u001b[0m \u001b[0;34m-\u001b[0m\u001b[0mlen_axis\u001b[0m\u001b[0;34m:\u001b[0m\u001b[0;34m\u001b[0m\u001b[0;34m\u001b[0m\u001b[0m\n\u001b[0;32m-> 1443\u001b[0;31m             \u001b[0;32mraise\u001b[0m \u001b[0mIndexError\u001b[0m\u001b[0;34m(\u001b[0m\u001b[0;34m\"single positional indexer is out-of-bounds\"\u001b[0m\u001b[0;34m)\u001b[0m\u001b[0;34m\u001b[0m\u001b[0;34m\u001b[0m\u001b[0m\n\u001b[0m\u001b[1;32m   1444\u001b[0m \u001b[0;34m\u001b[0m\u001b[0m\n\u001b[1;32m   1445\u001b[0m     \u001b[0;31m# -------------------------------------------------------------------\u001b[0m\u001b[0;34m\u001b[0m\u001b[0;34m\u001b[0m\u001b[0;34m\u001b[0m\u001b[0m\n",
      "\u001b[0;31mIndexError\u001b[0m: single positional indexer is out-of-bounds"
     ]
    }
   ],
   "source": [
    "fig = px.scatter(filtered_df.loc[filtered_df['variant_id']==\"428918\"], x = \"order_date\", y=\"loyalty_score\", color=\"variant_name\", trendline=\"ols\", title = \"Which variant is the best loyalty trigger within a category?\"\n",
    "                ,labels=dict(order_date=\"Purchase Date\", loyalty_score=\"Loyalty Score \"))\n",
    "    #fig.data = [t for t in fig.data if t.mode == \"lines\"]\n",
    "    #fig.update_traces(showlegend = True)\n",
    "    #fig.show()\n",
    "results = px.get_trendline_results(fig)\n",
    "#results = results.iloc[0][\"px_fit_results\"].summary()\n",
    "coeff = results.iloc[0][\"px_fit_results\"].params\n",
    "#    res.append(coeff[1])"
   ]
  },
  {
   "cell_type": "code",
   "execution_count": null,
   "metadata": {},
   "outputs": [],
   "source": [
    "res_from_dowhy = pd.read_parquet('low_loyalty_customer_variant_id.parquet')\n",
    "res_from_dowhy"
   ]
  },
  {
   "cell_type": "code",
   "execution_count": null,
   "metadata": {},
   "outputs": [],
   "source": [
    "res_from_dowhy.sort_values(by='mean value', ascending=False)"
   ]
  },
  {
   "cell_type": "code",
   "execution_count": null,
   "metadata": {},
   "outputs": [],
   "source": [
    "#for filtering\n",
    "triggers_list = triggers_df.index.tolist()\n",
    "boolean_series = customer_loyalty_df.variant_id.isin(triggers_list)\n",
    "filtered_df = customer_loyalty_df[boolean_series]\n",
    "#triggers_df_final = pd.merge(customer_loyalty_df, triggers_df, on='variant_id', how='left')\n",
    "#triggers_df_final = triggers_df_final[triggers_df_final['difference_x'].notna()]"
   ]
  },
  {
   "cell_type": "code",
   "execution_count": null,
   "metadata": {},
   "outputs": [],
   "source": [
    "fig = px.scatter(customer_loyalty_df.loc[customer_loyalty_df['variant_id']==\"433703\"], x = \"order_date\", y=\"loyalty_score\", color=\"variant_name\", trendline=\"ols\", title = \"Which variant is the best loyalty trigger within a category?\"\n",
    "                ,labels=dict(order_date=\"Purchase Date\", loyalty_score=\"Loyalty Score \", variant_name=\"Variants of Sweat (Women)\"))\n",
    "fig.data = [t for t in fig.data if t.mode == \"lines\"]\n",
    "fig.update_traces(showlegend = True)\n",
    "fig.show()\n",
    "results = px.get_trendline_results(fig)\n",
    "#results = results.iloc[0][\"px_fit_results\"].summary()\n",
    "print(results)"
   ]
  },
  {
   "cell_type": "code",
   "execution_count": null,
   "metadata": {},
   "outputs": [],
   "source": [
    "fig = px.scatter(customer_loyalty_df.loc[customer_loyalty_df['variant_id']==\"419506\"], x = \"order_date\", y=\"loyalty_score\", color=\"variant_name\", trendline=\"lowess\", title = \"Which variant is the best loyalty trigger within a category?\"\n",
    "                ,labels=dict(order_date=\"Purchase Date\", loyalty_score=\"Loyalty Score \", variant_name=\"Variants of Sweat (Women)\"))\n",
    "fig.data = [t for t in fig.data if t.mode == \"lines\"]\n",
    "fig.update_traces(showlegend = True)\n",
    "fig.show()\n",
    "results = px.get_trendline_results(fig)\n",
    "#results = results.iloc[0][\"px_fit_results\"].summary()\n",
    "print(results)"
   ]
  },
  {
   "cell_type": "code",
   "execution_count": null,
   "metadata": {},
   "outputs": [],
   "source": [
    "fig = px.scatter(customer_loyalty_df.loc[customer_loyalty_df['variant_id']==\"435248\"], x = \"order_date\", y=\"loyalty_score\", color=\"variant_name\", trendline=\"lowess\", title = \"Which variant is the best loyalty trigger within a category?\"\n",
    "                ,labels=dict(order_date=\"Purchase Date\", loyalty_score=\"Loyalty Score \", variant_name=\"Variants of Sweat (Women)\"))\n",
    "fig.data = [t for t in fig.data if t.mode == \"lines\"]\n",
    "fig.update_traces(showlegend = True)\n",
    "fig.show()\n",
    "results = px.get_trendline_results(fig)\n",
    "#results = results.iloc[0][\"px_fit_results\"].summary()\n",
    "print(results)"
   ]
  },
  {
   "cell_type": "code",
   "execution_count": null,
   "metadata": {},
   "outputs": [],
   "source": [
    "fig = px.scatter(customer_loyalty_df.loc[customer_loyalty_df['variant_id']==\"428918\"], x = \"order_date\", y=\"loyalty_score\", color=\"variant_name\", trendline=\"lowess\", title = \"Which variant is the best loyalty trigger within a category?\"\n",
    "                ,labels=dict(order_date=\"Purchase Date\", loyalty_score=\"Loyalty Score \", variant_name=\"Variants of Sweat (Women)\"))\n",
    "fig.data = [t for t in fig.data if t.mode == \"lines\"]\n",
    "fig.update_traces(showlegend = True)\n",
    "fig.show()\n",
    "results = px.get_trendline_results(fig)\n",
    "#results = results.iloc[0][\"px_fit_results\"].summary()\n",
    "print(results)"
   ]
  },
  {
   "cell_type": "code",
   "execution_count": null,
   "metadata": {},
   "outputs": [],
   "source": [
    "fig = px.scatter(customer_loyalty_df.loc[customer_loyalty_df['variant_id']==\"429414\"], x = \"order_date\", y=\"loyalty_score\", color=\"variant_name\", trendline=\"lowess\", title = \"Which variant is the best loyalty trigger within a category?\"\n",
    "                ,labels=dict(order_date=\"Purchase Date\", loyalty_score=\"Loyalty Score \", variant_name=\"Variants of Sweat (Women)\"))\n",
    "fig.data = [t for t in fig.data if t.mode == \"lines\"]\n",
    "fig.update_traces(showlegend = True)\n",
    "fig.show()\n",
    "results = px.get_trendline_results(fig)\n",
    "#results = results.iloc[0][\"px_fit_results\"].summary()\n",
    "print(results)"
   ]
  },
  {
   "cell_type": "code",
   "execution_count": null,
   "metadata": {},
   "outputs": [],
   "source": [
    "fig = px.scatter(customer_loyalty_df.loc[customer_loyalty_df['variant_id']==\"429414\"], x = \"order_date\", y=\"loyalty_score\", color=\"variant_name\", trendline=\"ols\", title = \"Which variant is the best loyalty trigger within a category?\"\n",
    "                ,labels=dict(order_date=\"Purchase Date\", loyalty_score=\"Loyalty Score \", variant_name=\"Variants of Sweat (Women)\"))\n",
    "fig.data = [t for t in fig.data if t.mode == \"lines\"]\n",
    "fig.update_traces(showlegend = True)\n",
    "fig.show()\n",
    "results = px.get_trendline_results(fig)\n",
    "#results = results.iloc[0][\"px_fit_results\"].summary()\n",
    "coeff = results.iloc[0][\"px_fit_results\"].params\n",
    "# the second value printed here is the slope\n",
    "print(coeff)"
   ]
  },
  {
   "cell_type": "code",
   "execution_count": null,
   "metadata": {},
   "outputs": [],
   "source": [
    "y = customer_loyalty_df.loc[customer_loyalty_df['variant_id']=='429414']['loyalty_score']\n",
    "x = customer_loyalty_df.loc[customer_loyalty_df['variant_id']=='429414']['order_date']\n",
    "dydx = diff(y)\n",
    "print(max(dydx))\n",
    "print(min(dydx))"
   ]
  },
  {
   "cell_type": "code",
   "execution_count": null,
   "metadata": {},
   "outputs": [],
   "source": [
    "fig = px.scatter(customer_loyalty_df.loc[customer_loyalty_df['variant_id']==\"439021\"], x = \"order_date\", y=\"loyalty_score\", color=\"variant_name\", trendline=\"lowess\", title = \"Which variant is the best loyalty trigger within a category?\"\n",
    "                ,labels=dict(order_date=\"Purchase Date\", loyalty_score=\"Loyalty Score \", variant_name=\"Variants of Sweat (Women)\"))\n",
    "fig.data = [t for t in fig.data if t.mode == \"lines\"]\n",
    "fig.update_traces(showlegend = True)\n",
    "fig.show()\n",
    "results = px.get_trendline_results(fig)\n",
    "#results = results.iloc[0][\"px_fit_results\"].summary()\n",
    "print(results)"
   ]
  },
  {
   "cell_type": "code",
   "execution_count": null,
   "metadata": {},
   "outputs": [],
   "source": [
    "fig = px.scatter(customer_loyalty_df.loc[customer_loyalty_df['variant_id']==\"439021\"], x = \"order_date\", y=\"loyalty_score\", color=\"variant_name\", trendline=\"ols\", title = \"Which variant is the best loyalty trigger within a category?\"\n",
    "                ,labels=dict(order_date=\"Purchase Date\", loyalty_score=\"Loyalty Score \", variant_name=\"Variants of Sweat (Women)\"))\n",
    "fig.data = [t for t in fig.data if t.mode == \"lines\"]\n",
    "fig.update_traces(showlegend = True)\n",
    "fig.show()\n",
    "results = px.get_trendline_results(fig)\n",
    "#results = results.iloc[0][\"px_fit_results\"].summary()\n",
    "coeff = results.iloc[0][\"px_fit_results\"].params\n",
    "# the second value printed here is the slope\n",
    "print(coeff)"
   ]
  },
  {
   "cell_type": "code",
   "execution_count": null,
   "metadata": {},
   "outputs": [],
   "source": [
    "y = customer_loyalty_df.loc[customer_loyalty_df['variant_id']=='439021']['loyalty_score']\n",
    "x = customer_loyalty_df.loc[customer_loyalty_df['variant_id']=='439021']['order_date']\n",
    "dydx = diff(y)\n",
    "print(max(dydx))\n",
    "print(min(dydx))"
   ]
  },
  {
   "cell_type": "code",
   "execution_count": null,
   "metadata": {},
   "outputs": [],
   "source": [
    "fig = px.scatter(customer_loyalty_df.loc[customer_loyalty_df['variant_id']==\"419506\"], x = \"order_date\", y=\"loyalty_score\", color=\"variant_name\", trendline=\"lowess\", title = \"Which variant is the best loyalty trigger within a category?\"\n",
    "                ,labels=dict(order_date=\"Purchase Date\", loyalty_score=\"Loyalty Score \", variant_name=\"Variants of Sweat (Women)\"))\n",
    "fig.data = [t for t in fig.data if t.mode == \"lines\"]\n",
    "fig.update_traces(showlegend = True)\n",
    "fig.show()"
   ]
  },
  {
   "cell_type": "code",
   "execution_count": null,
   "metadata": {},
   "outputs": [],
   "source": [
    "fig = px.scatter(customer_loyalty_df.loc[customer_loyalty_df['variant_id']==\"419506\"], x = \"order_date\", y=\"loyalty_score\", color=\"variant_name\", trendline=\"ols\", title = \"Which variant is the best loyalty trigger within a category?\"\n",
    "                ,labels=dict(order_date=\"Purchase Date\", loyalty_score=\"Loyalty Score \", variant_name=\"Variants of Sweat (Women)\"))\n",
    "fig.data = [t for t in fig.data if t.mode == \"lines\"]\n",
    "fig.update_traces(showlegend = True)\n",
    "fig.show()\n",
    "results = px.get_trendline_results(fig)\n",
    "#results = results.iloc[0][\"px_fit_results\"].summary()\n",
    "coeff = results.iloc[0][\"px_fit_results\"].params\n",
    "#print(results)\n",
    "print(coeff)"
   ]
  },
  {
   "cell_type": "code",
   "execution_count": null,
   "metadata": {},
   "outputs": [],
   "source": [
    "y = customer_loyalty_df.loc[customer_loyalty_df['variant_id']=='419506']['loyalty_score']\n",
    "x = customer_loyalty_df.loc[customer_loyalty_df['variant_id']=='419506']['order_date']\n",
    "dydx = diff(y)\n",
    "print(max(dydx))\n",
    "print(min(dydx))"
   ]
  },
  {
   "cell_type": "code",
   "execution_count": null,
   "metadata": {},
   "outputs": [],
   "source": [
    "fig = px.scatter(customer_loyalty_df.loc[customer_loyalty_df['variant_id']==\"435248\"], x = \"order_date\", y=\"loyalty_score\", color=\"variant_name\", trendline=\"lowess\", title = \"Which variant is the best loyalty trigger within a category?\"\n",
    "                ,labels=dict(order_date=\"Purchase Date\", loyalty_score=\"Loyalty Score \", variant_name=\"Variants of Sweat (Women)\"))\n",
    "fig.data = [t for t in fig.data if t.mode == \"lines\"]\n",
    "fig.update_traces(showlegend = True)\n",
    "fig.show()"
   ]
  },
  {
   "cell_type": "code",
   "execution_count": null,
   "metadata": {},
   "outputs": [],
   "source": [
    "fig = px.scatter(customer_loyalty_df.loc[customer_loyalty_df['variant_id']==\"435248\"], x = \"order_date\", y=\"loyalty_score\", color=\"variant_name\", trendline=\"ols\", title = \"Which variant is the best loyalty trigger within a category?\"\n",
    "                ,labels=dict(order_date=\"Purchase Date\", loyalty_score=\"Loyalty Score \", variant_name=\"Variants of Sweat (Women)\"))\n",
    "fig.data = [t for t in fig.data if t.mode == \"lines\"]\n",
    "fig.update_traces(showlegend = True)\n",
    "fig.show()\n",
    "results = px.get_trendline_results(fig)\n",
    "#results = results.iloc[0][\"px_fit_results\"].summary()\n",
    "coeff = results.iloc[0][\"px_fit_results\"].params\n",
    "#print(results)\n",
    "print(coeff)"
   ]
  },
  {
   "cell_type": "code",
   "execution_count": null,
   "metadata": {},
   "outputs": [],
   "source": [
    "fig = px.scatter(customer_loyalty_df.loc[customer_loyalty_df['variant_id']==\"438956\"], x = \"order_date\", y=\"loyalty_score\", color=\"variant_name\", trendline=\"lowess\", title = \"Which variant is the best loyalty trigger within a category?\"\n",
    "                ,labels=dict(order_date=\"Purchase Date\", loyalty_score=\"Loyalty Score \", variant_name=\"Variants of Sweat (Women)\"))\n",
    "fig.data = [t for t in fig.data if t.mode == \"lines\"]\n",
    "fig.update_traces(showlegend = True)\n",
    "fig.show()"
   ]
  },
  {
   "cell_type": "markdown",
   "metadata": {},
   "source": [
    "## Alternative approach\n",
    "\n",
    "Can we just use the average to gauge triggers?"
   ]
  },
  {
   "cell_type": "code",
   "execution_count": null,
   "metadata": {},
   "outputs": [],
   "source": [
    "triggers_df['difference'] = (triggers_df.groupby('variant_id')[['min_ls','max_ls']].shift(1).diff(axis=1)['max_ls']).fillna(0)"
   ]
  },
  {
   "cell_type": "code",
   "execution_count": null,
   "metadata": {},
   "outputs": [],
   "source": [
    "results_df = triggers_df[triggers_df['difference']>1.0]\n",
    "results_df = results_df.sort_values(by=['difference','avg_ls'])"
   ]
  },
  {
   "cell_type": "code",
   "execution_count": null,
   "metadata": {},
   "outputs": [],
   "source": [
    "customer_loyalty_df.loc[customer_loyalty_df['variant_id']=='429414']"
   ]
  },
  {
   "cell_type": "code",
   "execution_count": null,
   "metadata": {},
   "outputs": [],
   "source": [
    "customer_loyalty_df.loc[customer_loyalty_df['variant_id']=='432322']"
   ]
  },
  {
   "cell_type": "code",
   "execution_count": null,
   "metadata": {},
   "outputs": [],
   "source": [
    "customer_loyalty_df.loc[customer_loyalty_df['variant_id']=='439021']"
   ]
  },
  {
   "cell_type": "code",
   "execution_count": null,
   "metadata": {},
   "outputs": [],
   "source": [
    "customer_loyalty_df.loc[customer_loyalty_df['variant_id']=='425949']"
   ]
  }
 ],
 "metadata": {
  "kernelspec": {
   "display_name": "Python 3",
   "language": "python",
   "name": "python3"
  },
  "language_info": {
   "codemirror_mode": {
    "name": "ipython",
    "version": 3
   },
   "file_extension": ".py",
   "mimetype": "text/x-python",
   "name": "python",
   "nbconvert_exporter": "python",
   "pygments_lexer": "ipython3",
   "version": "3.8.10"
  }
 },
 "nbformat": 4,
 "nbformat_minor": 4
}
