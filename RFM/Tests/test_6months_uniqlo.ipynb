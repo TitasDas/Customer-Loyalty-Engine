{
 "cells": [
  {
   "cell_type": "markdown",
   "metadata": {},
   "source": [
    "# Testing\n",
    "\n",
    "- Make sure that the data points needed for the plots are available in the result_df that is generated from the metric\n",
    "- Run time complexity checks for various calculations"
   ]
  },
  {
   "cell_type": "code",
   "execution_count": 15,
   "metadata": {},
   "outputs": [],
   "source": [
    "import pandas as pd\n",
    "#pandas setting to see all columns and rows\n",
    "pd.set_option(\"display.max_columns\", 50)"
   ]
  },
  {
   "cell_type": "code",
   "execution_count": 16,
   "metadata": {},
   "outputs": [
    {
     "name": "stdout",
     "output_type": "stream",
     "text": [
      "<class 'pandas.core.frame.DataFrame'>\n",
      "RangeIndex: 879388 entries, 0 to 879387\n",
      "Data columns (total 29 columns):\n",
      " #   Column          Non-Null Count   Dtype         \n",
      "---  ------          --------------   -----         \n",
      " 0   order_id        879388 non-null  object        \n",
      " 1   variant_id      879388 non-null  object        \n",
      " 2   customer_id     879388 non-null  object        \n",
      " 3   source_id       879388 non-null  object        \n",
      " 4   store_id        879388 non-null  object        \n",
      " 5   order_date      879388 non-null  datetime64[ns]\n",
      " 6   selling_price   879388 non-null  float64       \n",
      " 7   quantity        879388 non-null  int64         \n",
      " 8   currency        879388 non-null  object        \n",
      " 9   client_id       879388 non-null  int64         \n",
      " 10  revenue         879388 non-null  float64       \n",
      " 11  shipping_zip    879388 non-null  object        \n",
      " 12  product_id_x    879388 non-null  object        \n",
      " 13  recency         879388 non-null  int64         \n",
      " 14  monetary_value  879388 non-null  float64       \n",
      " 15  frequency       879388 non-null  int64         \n",
      " 16  M               879388 non-null  int64         \n",
      " 17  R               879388 non-null  int64         \n",
      " 18  loyalty_score   879388 non-null  int64         \n",
      " 19  LS              879388 non-null  int64         \n",
      " 20  loyalty_labels  879388 non-null  category      \n",
      " 21  variant_name    879388 non-null  object        \n",
      " 22  original_price  879388 non-null  float64       \n",
      " 23  category_name   879388 non-null  object        \n",
      " 24  image_link      879388 non-null  object        \n",
      " 25  link            879388 non-null  object        \n",
      " 26  product_name    879388 non-null  object        \n",
      " 27  product_id_y    879388 non-null  object        \n",
      " 28  category_id     879388 non-null  object        \n",
      "dtypes: category(1), datetime64[ns](1), float64(4), int64(8), object(15)\n",
      "memory usage: 188.7+ MB\n"
     ]
    }
   ],
   "source": [
    "test_df = pd.read_parquet(\"uniqlo_metrics_customers_loyalty_customer_2021-10-13.parquet\")\n",
    "test_df.head(4)\n",
    "test_df.info()"
   ]
  },
  {
   "cell_type": "markdown",
   "metadata": {},
   "source": [
    "For Product A - get all customers that bought this product\n",
    "o/p = a list of customers\n",
    "\n",
    "from this group, get lowest/initial loyalty \n",
    "get highest/final loyalty\n",
    "\n",
    "make a list with the difference"
   ]
  },
  {
   "cell_type": "code",
   "execution_count": 17,
   "metadata": {},
   "outputs": [
    {
     "data": {
      "text/plain": [
       "True"
      ]
     },
     "execution_count": 17,
     "metadata": {},
     "output_type": "execute_result"
    }
   ],
   "source": [
    "test_df['customer_id'].duplicated().any()"
   ]
  },
  {
   "cell_type": "code",
   "execution_count": 18,
   "metadata": {},
   "outputs": [],
   "source": [
    "test_df = test_df.drop_duplicates(subset=['customer_id'])"
   ]
  },
  {
   "cell_type": "code",
   "execution_count": 19,
   "metadata": {},
   "outputs": [
    {
     "data": {
      "text/plain": [
       "False"
      ]
     },
     "execution_count": 19,
     "metadata": {},
     "output_type": "execute_result"
    }
   ],
   "source": [
    "test_df['customer_id'].duplicated().any()"
   ]
  },
  {
   "cell_type": "code",
   "execution_count": 20,
   "metadata": {},
   "outputs": [
    {
     "name": "stdout",
     "output_type": "stream",
     "text": [
      "<class 'pandas.core.frame.DataFrame'>\n",
      "Int64Index: 251059 entries, 0 to 879386\n",
      "Data columns (total 29 columns):\n",
      " #   Column          Non-Null Count   Dtype         \n",
      "---  ------          --------------   -----         \n",
      " 0   order_id        251059 non-null  object        \n",
      " 1   variant_id      251059 non-null  object        \n",
      " 2   customer_id     251059 non-null  object        \n",
      " 3   source_id       251059 non-null  object        \n",
      " 4   store_id        251059 non-null  object        \n",
      " 5   order_date      251059 non-null  datetime64[ns]\n",
      " 6   selling_price   251059 non-null  float64       \n",
      " 7   quantity        251059 non-null  int64         \n",
      " 8   currency        251059 non-null  object        \n",
      " 9   client_id       251059 non-null  int64         \n",
      " 10  revenue         251059 non-null  float64       \n",
      " 11  shipping_zip    251059 non-null  object        \n",
      " 12  product_id_x    251059 non-null  object        \n",
      " 13  recency         251059 non-null  int64         \n",
      " 14  monetary_value  251059 non-null  float64       \n",
      " 15  frequency       251059 non-null  int64         \n",
      " 16  M               251059 non-null  int64         \n",
      " 17  R               251059 non-null  int64         \n",
      " 18  loyalty_score   251059 non-null  int64         \n",
      " 19  LS              251059 non-null  int64         \n",
      " 20  loyalty_labels  251059 non-null  category      \n",
      " 21  variant_name    251059 non-null  object        \n",
      " 22  original_price  251059 non-null  float64       \n",
      " 23  category_name   251059 non-null  object        \n",
      " 24  image_link      251059 non-null  object        \n",
      " 25  link            251059 non-null  object        \n",
      " 26  product_name    251059 non-null  object        \n",
      " 27  product_id_y    251059 non-null  object        \n",
      " 28  category_id     251059 non-null  object        \n",
      "dtypes: category(1), datetime64[ns](1), float64(4), int64(8), object(15)\n",
      "memory usage: 55.8+ MB\n"
     ]
    }
   ],
   "source": [
    "test_df.info()"
   ]
  },
  {
   "cell_type": "code",
   "execution_count": 22,
   "metadata": {},
   "outputs": [
    {
     "data": {
      "text/html": [
       "<div>\n",
       "<style scoped>\n",
       "    .dataframe tbody tr th:only-of-type {\n",
       "        vertical-align: middle;\n",
       "    }\n",
       "\n",
       "    .dataframe tbody tr th {\n",
       "        vertical-align: top;\n",
       "    }\n",
       "\n",
       "    .dataframe thead th {\n",
       "        text-align: right;\n",
       "    }\n",
       "</style>\n",
       "<table border=\"1\" class=\"dataframe\">\n",
       "  <thead>\n",
       "    <tr style=\"text-align: right;\">\n",
       "      <th></th>\n",
       "      <th>order_id</th>\n",
       "      <th>variant_id</th>\n",
       "      <th>customer_id</th>\n",
       "      <th>source_id</th>\n",
       "      <th>store_id</th>\n",
       "      <th>order_date</th>\n",
       "      <th>selling_price</th>\n",
       "      <th>quantity</th>\n",
       "      <th>currency</th>\n",
       "      <th>client_id</th>\n",
       "      <th>revenue</th>\n",
       "      <th>shipping_zip</th>\n",
       "      <th>product_id_x</th>\n",
       "      <th>recency</th>\n",
       "      <th>monetary_value</th>\n",
       "      <th>frequency</th>\n",
       "      <th>M</th>\n",
       "      <th>R</th>\n",
       "      <th>loyalty_score</th>\n",
       "      <th>LS</th>\n",
       "      <th>loyalty_labels</th>\n",
       "      <th>variant_name</th>\n",
       "      <th>original_price</th>\n",
       "      <th>category_name</th>\n",
       "      <th>image_link</th>\n",
       "      <th>link</th>\n",
       "      <th>product_name</th>\n",
       "      <th>product_id_y</th>\n",
       "      <th>category_id</th>\n",
       "    </tr>\n",
       "  </thead>\n",
       "  <tbody>\n",
       "    <tr>\n",
       "      <th>0</th>\n",
       "      <td>UNU17571101</td>\n",
       "      <td>418225</td>\n",
       "      <td>US621111115646588</td>\n",
       "      <td>Newsletter Email</td>\n",
       "      <td>1</td>\n",
       "      <td>2021-04-16</td>\n",
       "      <td>9.9</td>\n",
       "      <td>1</td>\n",
       "      <td>N/A</td>\n",
       "      <td>51</td>\n",
       "      <td>9.9</td>\n",
       "      <td>11228</td>\n",
       "      <td>12440Z</td>\n",
       "      <td>180</td>\n",
       "      <td>9.9</td>\n",
       "      <td>1</td>\n",
       "      <td>1</td>\n",
       "      <td>2</td>\n",
       "      <td>4</td>\n",
       "      <td>1</td>\n",
       "      <td>Low</td>\n",
       "      <td>W's 1*1 ribbed cotton crew neck L/S T-shirt</td>\n",
       "      <td>14.9</td>\n",
       "      <td>Core T L/S (Women)</td>\n",
       "      <td>https://image.uniqlo.com/UQ/ST3/WesternCommon/...</td>\n",
       "      <td>https://www.uniqlo.com/us/en/women-1*1-ribbed-...</td>\n",
       "      <td>WOMEN STRETCH COTTON CREW NECK LONG-SLEEVE T-S...</td>\n",
       "      <td>12440Z</td>\n",
       "      <td>Core T L/S (Women)</td>\n",
       "    </tr>\n",
       "    <tr>\n",
       "      <th>1</th>\n",
       "      <td>UNU17569173</td>\n",
       "      <td>432855</td>\n",
       "      <td>US621111115115761</td>\n",
       "      <td>Direct</td>\n",
       "      <td>1</td>\n",
       "      <td>2021-04-16</td>\n",
       "      <td>7.9</td>\n",
       "      <td>1</td>\n",
       "      <td>USD</td>\n",
       "      <td>51</td>\n",
       "      <td>7.9</td>\n",
       "      <td>49009</td>\n",
       "      <td>11064Z</td>\n",
       "      <td>180</td>\n",
       "      <td>7.9</td>\n",
       "      <td>1</td>\n",
       "      <td>1</td>\n",
       "      <td>2</td>\n",
       "      <td>4</td>\n",
       "      <td>1</td>\n",
       "      <td>Low</td>\n",
       "      <td>W's AIRism ultra seamless shorts (JW)</td>\n",
       "      <td>7.9</td>\n",
       "      <td>AIRism Inner (Women)</td>\n",
       "      <td>https://image.uniqlo.com/UQ/ST3/WesternCommon/...</td>\n",
       "      <td>https://www.uniqlo.com/us/en/women-airism-ultr...</td>\n",
       "      <td>WOMEN AIRism ULTRA SEAMLESS HIGH-RISE BRIEF</td>\n",
       "      <td>11064Z</td>\n",
       "      <td>AIRism Inner (Women)</td>\n",
       "    </tr>\n",
       "    <tr>\n",
       "      <th>2</th>\n",
       "      <td>UNU17569319</td>\n",
       "      <td>432855</td>\n",
       "      <td>US621111115897354</td>\n",
       "      <td>Trigger Email</td>\n",
       "      <td>1</td>\n",
       "      <td>2021-04-16</td>\n",
       "      <td>7.9</td>\n",
       "      <td>10</td>\n",
       "      <td>USD</td>\n",
       "      <td>51</td>\n",
       "      <td>79.0</td>\n",
       "      <td>87501</td>\n",
       "      <td>11064Z</td>\n",
       "      <td>180</td>\n",
       "      <td>79.0</td>\n",
       "      <td>2</td>\n",
       "      <td>3</td>\n",
       "      <td>2</td>\n",
       "      <td>7</td>\n",
       "      <td>2</td>\n",
       "      <td>Medium</td>\n",
       "      <td>W's AIRism ultra seamless shorts (JW)</td>\n",
       "      <td>7.9</td>\n",
       "      <td>AIRism Inner (Women)</td>\n",
       "      <td>https://image.uniqlo.com/UQ/ST3/WesternCommon/...</td>\n",
       "      <td>https://www.uniqlo.com/us/en/women-airism-ultr...</td>\n",
       "      <td>WOMEN AIRism ULTRA SEAMLESS HIGH-RISE BRIEF</td>\n",
       "      <td>11064Z</td>\n",
       "      <td>AIRism Inner (Women)</td>\n",
       "    </tr>\n",
       "  </tbody>\n",
       "</table>\n",
       "</div>"
      ],
      "text/plain": [
       "      order_id variant_id        customer_id         source_id store_id  \\\n",
       "0  UNU17571101     418225  US621111115646588  Newsletter Email        1   \n",
       "1  UNU17569173     432855  US621111115115761            Direct        1   \n",
       "2  UNU17569319     432855  US621111115897354     Trigger Email        1   \n",
       "\n",
       "  order_date  selling_price  quantity currency  client_id  revenue  \\\n",
       "0 2021-04-16            9.9         1      N/A         51      9.9   \n",
       "1 2021-04-16            7.9         1      USD         51      7.9   \n",
       "2 2021-04-16            7.9        10      USD         51     79.0   \n",
       "\n",
       "  shipping_zip product_id_x  recency  monetary_value  frequency  M  R  \\\n",
       "0        11228       12440Z      180             9.9          1  1  2   \n",
       "1        49009       11064Z      180             7.9          1  1  2   \n",
       "2        87501       11064Z      180            79.0          2  3  2   \n",
       "\n",
       "   loyalty_score  LS loyalty_labels  \\\n",
       "0              4   1            Low   \n",
       "1              4   1            Low   \n",
       "2              7   2         Medium   \n",
       "\n",
       "                                  variant_name  original_price  \\\n",
       "0  W's 1*1 ribbed cotton crew neck L/S T-shirt            14.9   \n",
       "1        W's AIRism ultra seamless shorts (JW)             7.9   \n",
       "2        W's AIRism ultra seamless shorts (JW)             7.9   \n",
       "\n",
       "          category_name                                         image_link  \\\n",
       "0    Core T L/S (Women)  https://image.uniqlo.com/UQ/ST3/WesternCommon/...   \n",
       "1  AIRism Inner (Women)  https://image.uniqlo.com/UQ/ST3/WesternCommon/...   \n",
       "2  AIRism Inner (Women)  https://image.uniqlo.com/UQ/ST3/WesternCommon/...   \n",
       "\n",
       "                                                link  \\\n",
       "0  https://www.uniqlo.com/us/en/women-1*1-ribbed-...   \n",
       "1  https://www.uniqlo.com/us/en/women-airism-ultr...   \n",
       "2  https://www.uniqlo.com/us/en/women-airism-ultr...   \n",
       "\n",
       "                                        product_name product_id_y  \\\n",
       "0  WOMEN STRETCH COTTON CREW NECK LONG-SLEEVE T-S...       12440Z   \n",
       "1        WOMEN AIRism ULTRA SEAMLESS HIGH-RISE BRIEF       11064Z   \n",
       "2        WOMEN AIRism ULTRA SEAMLESS HIGH-RISE BRIEF       11064Z   \n",
       "\n",
       "            category_id  \n",
       "0    Core T L/S (Women)  \n",
       "1  AIRism Inner (Women)  \n",
       "2  AIRism Inner (Women)  "
      ]
     },
     "execution_count": 22,
     "metadata": {},
     "output_type": "execute_result"
    }
   ],
   "source": [
    "test_df.head(3)"
   ]
  },
  {
   "cell_type": "code",
   "execution_count": null,
   "metadata": {},
   "outputs": [],
   "source": []
  },
  {
   "cell_type": "code",
   "execution_count": null,
   "metadata": {},
   "outputs": [],
   "source": []
  },
  {
   "cell_type": "code",
   "execution_count": null,
   "metadata": {},
   "outputs": [],
   "source": []
  }
 ],
 "metadata": {
  "kernelspec": {
   "display_name": "Python 3",
   "language": "python",
   "name": "python3"
  },
  "language_info": {
   "codemirror_mode": {
    "name": "ipython",
    "version": 3
   },
   "file_extension": ".py",
   "mimetype": "text/x-python",
   "name": "python",
   "nbconvert_exporter": "python",
   "pygments_lexer": "ipython3",
   "version": "3.8.10"
  }
 },
 "nbformat": 4,
 "nbformat_minor": 4
}
